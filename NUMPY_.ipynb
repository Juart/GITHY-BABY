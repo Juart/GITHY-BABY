{
 "cells": [
  {
   "cell_type": "code",
   "execution_count": 1,
   "metadata": {},
   "outputs": [
    {
     "name": "stdout",
     "output_type": "stream",
     "text": [
      "[3, 6, 9, 12, 15, 18]\n",
      "[ 3  6  9 12 15 18]\n"
     ]
    },
    {
     "data": {
      "text/plain": [
       "array([[ 3,  6,  9],\n",
       "       [12, 15, 18]])"
      ]
     },
     "execution_count": 1,
     "metadata": {},
     "output_type": "execute_result"
    }
   ],
   "source": [
    "import numpy  as np\n",
    "# creating arrays\n",
    "# python array\n",
    "a = [3,6,9,12,15,18]\n",
    "print(a)\n",
    "\n",
    "# numpy array\n",
    "# 1-D array\n",
    "b = np.array(a)\n",
    "print(b)\n",
    "# 2-D array\n",
    "b = b.reshape(2,3)\n",
    "b\n",
    "\n",
    "\n"
   ]
  },
  {
   "cell_type": "code",
   "execution_count": 2,
   "metadata": {},
   "outputs": [
    {
     "name": "stdout",
     "output_type": "stream",
     "text": [
      "[ 5  7  9 11 13 15 17 19 21 23 25 27 29 31]\n",
      "(14,)\n",
      "[[ 5  7  9 11 13 15 17]\n",
      " [19 21 23 25 27 29 31]]\n",
      "[[ 1  2  3  4  5]\n",
      " [ 6  7  8  9 10]\n",
      " [11 12 13 14 15]\n",
      " [16 17 18 19 20]]\n",
      "[[ 5  6  7  8]\n",
      " [ 9 10 11 12]\n",
      " [13 14 15 16]\n",
      " [17 18 19 20]\n",
      " [21 22 23 24]]\n"
     ]
    }
   ],
   "source": [
    "# arrange function\n",
    "D = np.arange(5,32,2)\n",
    "print(D)\n",
    "print(D.shape)\n",
    "print(D.reshape(2,7))\n",
    "c = np.arange(1,21).reshape(4,5)\n",
    "print(c)\n",
    "b = np.arange(5,25).reshape(5,4)\n",
    "print(b)"
   ]
  },
  {
   "cell_type": "code",
   "execution_count": 3,
   "metadata": {},
   "outputs": [
    {
     "name": "stdout",
     "output_type": "stream",
     "text": [
      "[0. 0. 0. 0. 0. 0.]\n",
      "[1. 1. 1. 1. 1. 1. 1.]\n",
      "[[1. 0. 0. 0. 0. 0. 0.]\n",
      " [0. 1. 0. 0. 0. 0. 0.]\n",
      " [0. 0. 1. 0. 0. 0. 0.]\n",
      " [0. 0. 0. 1. 0. 0. 0.]\n",
      " [0. 0. 0. 0. 1. 0. 0.]\n",
      " [0. 0. 0. 0. 0. 1. 0.]\n",
      " [0. 0. 0. 0. 0. 0. 1.]]\n"
     ]
    }
   ],
   "source": [
    "# zeros(),ones(),eyes()\n",
    "print(np.zeros(6))\n",
    "print(np.ones(7))\n",
    "print(np.eye(7))"
   ]
  },
  {
   "cell_type": "code",
   "execution_count": 4,
   "metadata": {},
   "outputs": [
    {
     "name": "stdout",
     "output_type": "stream",
     "text": [
      "[[ 235  250  265  280]\n",
      " [ 560  600  640  680]\n",
      " [ 885  950 1015 1080]\n",
      " [1210 1300 1390 1480]]\n",
      "12820\n",
      "[1030 2480 3930 5380]\n",
      "[2890 3100 3310 3520]\n"
     ]
    }
   ],
   "source": [
    "# multiplication\n",
    "F = np.dot(c,b)\n",
    "print(F)\n",
    "# sum\n",
    "sum = np.sum(F)\n",
    "print(sum)\n",
    "# sum along rows\n",
    "rows_sum = np.sum(F,axis = 1)\n",
    "print(rows_sum)\n",
    "# sum along columns\n",
    "colum_sum = np.sum(F,axis = 0)\n",
    "print(colum_sum)"
   ]
  },
  {
   "cell_type": "code",
   "execution_count": 5,
   "metadata": {},
   "outputs": [
    {
     "data": {
      "text/plain": [
       "array([ 2. ,  6.5, 11. , 15.5, 20. ])"
      ]
     },
     "execution_count": 5,
     "metadata": {},
     "output_type": "execute_result"
    }
   ],
   "source": [
    "# LINESPACE \n",
    "np.linspace(2,20,5)"
   ]
  },
  {
   "cell_type": "code",
   "execution_count": 6,
   "metadata": {},
   "outputs": [
    {
     "name": "stdout",
     "output_type": "stream",
     "text": [
      "[0.90322967 0.51674232 0.12472986 0.92459976]\n",
      "[[0.06364838 0.99321499 0.39046224 0.8007787  0.76428172]\n",
      " [0.01890259 0.80202718 0.26798169 0.54514509 0.28848731]\n",
      " [0.409845   0.56424255 0.75498789 0.9401845  0.18523656]]\n",
      "[-1.44977504 -1.01668165  0.93459661]\n",
      "[[ 0.47039649  1.99585238  1.23165229]\n",
      " [ 1.71368653 -0.18139338  0.18188801]]\n",
      "1\n",
      "8\n",
      "[10  3 10  4  6  9  7  9]\n",
      "10\n",
      "3\n",
      "3\n",
      "4\n",
      "0.009330098672417058\n",
      "0.976890526392451\n"
     ]
    }
   ],
   "source": [
    "# rand, randn, randit\n",
    "# 1-D rand\n",
    "rand_sweetie = np.random.rand(4)\n",
    "print(rand_sweetie)\n",
    "\n",
    "# 2-D rand\n",
    "rand_sweetie = np.random.rand(3,5)\n",
    "print(rand_sweetie)\n",
    "\n",
    "# randn 1-D\n",
    "randn = np.random.randn(3)\n",
    "print(randn)\n",
    "\n",
    "randn_2 = np.random.randn(2,3)\n",
    "print(randn_2)\n",
    "\n",
    "# randint\n",
    "randint_1 = np.random.randint(7)\n",
    "print(randint_1)\n",
    "randint_2 = np.random.randint(5,10)\n",
    "print(randint_2)\n",
    "randint_3 = np.random.randint(3,15,8)\n",
    "print(randint_3)\n",
    "\n",
    "# max() & min()\n",
    "print(randint_3.max())\n",
    "print(randint_3.min())\n",
    "\n",
    "arry = np.random.rand(10)\n",
    "# index of max and min number\n",
    "print(arry.argmax())\n",
    "print(arry.argmin())\n",
    "\n",
    "# mean(), std()\n",
    "print(np.random.randn(50).mean())\n",
    "print(np.random.randn(509).std())"
   ]
  },
  {
   "cell_type": "code",
   "execution_count": 7,
   "metadata": {},
   "outputs": [
    {
     "name": "stdout",
     "output_type": "stream",
     "text": [
      "[ 6  7  8  9 10 11 12 13 14 15 16 17 18 19]\n",
      "[16 17 18]\n",
      "[ 6  7  8  9 10]\n",
      "[12 13 14 15 16 17 18 19]\n"
     ]
    }
   ],
   "source": [
    "# Indexing/slicing elements or groups\n",
    "array = np.arange(6,20)\n",
    "print(array)\n",
    "array[10]\n",
    "print(array[10:13])\n",
    "print(array[:5])\n",
    "print(array[6:])"
   ]
  },
  {
   "cell_type": "code",
   "execution_count": 8,
   "metadata": {},
   "outputs": [
    {
     "name": "stdout",
     "output_type": "stream",
     "text": [
      "[ 2  3  4  5  6  7  8  9 10 11 12 13 14]\n"
     ]
    },
    {
     "data": {
      "text/plain": [
       "array([ 6,  7,  8,  9, 10, 11])"
      ]
     },
     "execution_count": 8,
     "metadata": {},
     "output_type": "execute_result"
    }
   ],
   "source": [
    "# conditions\n",
    "array_3 = np.arange(2,15)\n",
    "print(array_3)\n",
    "array_3 > 6\n",
    "arry = array_3 > 6\n",
    "array_3[array_3 > 6]\n",
    "array_3[(array_3 > 5) & (array_3 < 12)]"
   ]
  },
  {
   "cell_type": "code",
   "execution_count": 9,
   "metadata": {},
   "outputs": [
    {
     "name": "stdout",
     "output_type": "stream",
     "text": [
      "[ 2  7  7  7  7  7  8  9 10 11 12 13 14]\n"
     ]
    }
   ],
   "source": [
    "# Broadcasting\n",
    "array = np.arange(2,15)\n",
    "array[1:5] = 7\n",
    "print(array)\n"
   ]
  },
  {
   "cell_type": "code",
   "execution_count": 10,
   "metadata": {},
   "outputs": [
    {
     "name": "stdout",
     "output_type": "stream",
     "text": [
      "[1 2 3 4 5 6 7 8 9]\n",
      "[ 1  4  9 16 25 36 49 64 81]\n",
      "[0 0 0 0 0 0 0 0 0]\n",
      "[ 2  4  6  8 10 12 14 16 18]\n",
      "[1. 1. 1. 1. 1. 1. 1. 1. 1.]\n",
      "[21 22 23 24 25 26 27 28 29]\n",
      "[1.         1.41421356 1.73205081 2.         2.23606798 2.44948974\n",
      " 2.64575131 2.82842712 3.        ]\n",
      "[2.71828183e+00 7.38905610e+00 2.00855369e+01 5.45981500e+01\n",
      " 1.48413159e+02 4.03428793e+02 1.09663316e+03 2.98095799e+03\n",
      " 8.10308393e+03]\n",
      "[ 0.84147098  0.90929743  0.14112001 -0.7568025  -0.95892427 -0.2794155\n",
      "  0.6569866   0.98935825  0.41211849]\n",
      "[ 0.54030231 -0.41614684 -0.9899925  -0.65364362  0.28366219  0.96017029\n",
      "  0.75390225 -0.14550003 -0.91113026]\n",
      "[0.         0.69314718 1.09861229 1.38629436 1.60943791 1.79175947\n",
      " 1.94591015 2.07944154 2.19722458]\n",
      "45\n",
      "2.581988897471611\n"
     ]
    }
   ],
   "source": [
    "# Arithmetic Operations\n",
    "array = np.arange(1,10)\n",
    "print(array)\n",
    "print(array * array)\n",
    "print(array - array)\n",
    "print(array + array)\n",
    "print(array / array)\n",
    "print(array + 20)\n",
    "print(np.sqrt(array))\n",
    "print(np.exp(array))\n",
    "print(np.sin(array))\n",
    "print(np.cos(array))\n",
    "print(np.log(array))\n",
    "print(np.sum(array))\n",
    "print(np.std(array))\n",
    "\n"
   ]
  },
  {
   "cell_type": "code",
   "execution_count": 11,
   "metadata": {},
   "outputs": [
    {
     "name": "stdout",
     "output_type": "stream",
     "text": [
      "[[7 7 7 7 7 7 7]\n",
      " [7 7 7 7 7 7 7]\n",
      " [7 7 7 7 7 7 7]\n",
      " [7 7 7 7 7 7 7]\n",
      " [7 7 7 7 7 7 7]\n",
      " [7 7 7 7 7 7 7]\n",
      " [7 7 7 7 7 7 7]]\n",
      "[[6. 6. 6. 6.]\n",
      " [6. 6. 6. 6.]\n",
      " [6. 6. 6. 6.]]\n",
      "(3, 4)\n",
      "12\n",
      "[[6. 6. 6. 6. 6. 6.]\n",
      " [6. 6. 6. 6. 6. 6.]]\n"
     ]
    }
   ],
   "source": [
    "# array of n * m matric with the same value\n",
    "print(np.full((7,7), 7))\n",
    "C = np.full((3,4), 6, dtype = 'float')\n",
    "print(C)\n",
    "\n",
    "print(C.shape)\n",
    "print(C.size)\n",
    "print(C.reshape(2,6))\n"
   ]
  },
  {
   "cell_type": "code",
   "execution_count": 12,
   "metadata": {},
   "outputs": [
    {
     "name": "stdout",
     "output_type": "stream",
     "text": [
      "[[1 3 6 2]\n",
      " [5 5 1 0]\n",
      " [4 6 6 2]]\n",
      "[1 3 6 2 5 5 1 0 4 6 6 2]\n",
      "[1 5 4 3 5 6 6 1 6 2 0 2]\n",
      "[[1 3 6 2 5 5]\n",
      " [1 0 4 6 6 2]]\n",
      "[[1 3]\n",
      " [6 2]\n",
      " [5 5]\n",
      " [1 0]\n",
      " [4 6]\n",
      " [6 2]]\n",
      "[[1 3 6 2 5 5 1 0 4 6 6 2]]\n"
     ]
    }
   ],
   "source": [
    "# flattening an array\n",
    "E = np.random.randint(7, size = (3,4))\n",
    "print(E)\n",
    "print(E.ravel())\n",
    "print(E.ravel(order = 'F'))\n",
    "print(E.reshape(2,6))\n",
    "print(E.reshape(6,2))\n",
    "print(E.reshape(1,12))"
   ]
  },
  {
   "cell_type": "code",
   "execution_count": 105,
   "metadata": {},
   "outputs": [
    {
     "data": {
      "text/plain": [
       "array([[2, 1, 4],\n",
       "       [2, 4, 6],\n",
       "       [1, 3, 3],\n",
       "       [3, 1, 6]])"
      ]
     },
     "execution_count": 105,
     "metadata": {},
     "output_type": "execute_result"
    }
   ],
   "source": [
    "# Transpose\n",
    "E.transpose()"
   ]
  },
  {
   "cell_type": "code",
   "execution_count": 112,
   "metadata": {},
   "outputs": [
    {
     "name": "stdout",
     "output_type": "stream",
     "text": [
      "[[ 9  9 16  4 10 15]\n",
      " [14 11  6  3 11  9]\n",
      " [ 3 11  7 14 16  6]\n",
      " [ 5 10 15  7  2 13]]\n",
      "[array([[ 9,  9, 16,  4, 10, 15],\n",
      "       [14, 11,  6,  3, 11,  9]]), array([[ 3, 11,  7, 14, 16,  6],\n",
      "       [ 5, 10, 15,  7,  2, 13]])]\n"
     ]
    },
    {
     "data": {
      "text/plain": [
       "array([[ 5, 10, 15,  7,  2, 13]])"
      ]
     },
     "execution_count": 112,
     "metadata": {},
     "output_type": "execute_result"
    }
   ],
   "source": [
    "E = np.random.randint(17, size = (4,6))\n",
    "print(E)\n",
    "print(np.vsplit(E, 2))\n",
    "\n",
    "np.vsplit(E,4)[3] # accessing a particular sub-array after splitting it"
   ]
  },
  {
   "cell_type": "code",
   "execution_count": 117,
   "metadata": {},
   "outputs": [
    {
     "name": "stdout",
     "output_type": "stream",
     "text": [
      "[[ 3 11  7 14 16  6]]\n",
      "[array([[ 9,  9],\n",
      "       [14, 11],\n",
      "       [ 3, 11],\n",
      "       [ 5, 10]]), array([[16,  4],\n",
      "       [ 6,  3],\n",
      "       [ 7, 14],\n",
      "       [15,  7]]), array([[10, 15],\n",
      "       [11,  9],\n",
      "       [16,  6],\n",
      "       [ 2, 13]])]\n"
     ]
    }
   ],
   "source": [
    "# Hsplit Vsplit\n",
    "print(np.vsplit(E,4)[2])\n",
    "print(np.hsplit(E,3))\n"
   ]
  },
  {
   "cell_type": "code",
   "execution_count": 118,
   "metadata": {},
   "outputs": [
    {
     "data": {
      "text/plain": [
       "array([5, 6, 7, 8, 1, 3, 9, 7])"
      ]
     },
     "execution_count": 118,
     "metadata": {},
     "output_type": "execute_result"
    }
   ],
   "source": [
    "# concatenate\n",
    "f = np.array([5,6,7,8])\n",
    "g = np.array([1,3,9,7])\n",
    "np.concatenate((f,g))"
   ]
  },
  {
   "cell_type": "code",
   "execution_count": 125,
   "metadata": {},
   "outputs": [
    {
     "name": "stdout",
     "output_type": "stream",
     "text": [
      "[2 4 6 8]\n",
      "[ 3  6  9 12]\n",
      "[10 20 30 40]\n"
     ]
    },
    {
     "data": {
      "text/plain": [
       "array([[ 2,  4,  6,  8],\n",
       "       [ 3,  6,  9, 12],\n",
       "       [10, 20, 30, 40]])"
      ]
     },
     "execution_count": 125,
     "metadata": {},
     "output_type": "execute_result"
    }
   ],
   "source": [
    "#Vstack\n",
    "i = np.array([2,4,6,8])\n",
    "print(i)\n",
    "j = np.array([3,6,9,12])\n",
    "print(j)\n",
    "k = np.array([10,20,30,40])\n",
    "print(k)\n",
    "np.vstack((i,j,k))"
   ]
  },
  {
   "cell_type": "code",
   "execution_count": 135,
   "metadata": {},
   "outputs": [
    {
     "data": {
      "text/plain": [
       "array([[ 2,  4,  3,  6, 10, 20],\n",
       "       [ 6,  8,  9, 12, 30, 40]])"
      ]
     },
     "execution_count": 135,
     "metadata": {},
     "output_type": "execute_result"
    }
   ],
   "source": [
    "# Hstack\n",
    "i = np.array([2,4,6,8]).reshape(-1,2)\n",
    "j = np.array([3,6,9,12]).reshape(2, -1)\n",
    "k = np.array([10,20,30,40]).reshape(-1,2)\n",
    "np.hstack((i,j,k))"
   ]
  },
  {
   "cell_type": "code",
   "execution_count": 142,
   "metadata": {},
   "outputs": [
    {
     "name": "stdout",
     "output_type": "stream",
     "text": [
      "[[4 4 4 5]\n",
      " [3 4 3 1]\n",
      " [3 0 2 5]\n",
      " [2 3 3 0]]\n",
      "27.0\n",
      "[[-0.77777778  1.11111111  0.55555556 -0.44444444]\n",
      " [ 0.37037037  0.18518519 -0.40740741 -0.40740741]\n",
      " [ 0.14814815 -0.92592593  0.03703704  1.03703704]\n",
      " [ 0.40740741 -0.2962963  -0.14814815 -0.14814815]]\n",
      "(array([11.56932313, -1.89200107, -0.96094302,  1.28362096]), array([[ 0.69689477, -0.49587875, -0.7834715 , -0.18220623],\n",
      "       [ 0.48125619,  0.37059392,  0.38991078, -0.63156202],\n",
      "       [ 0.40095451, -0.44716909, -0.02242434,  0.7536103 ],\n",
      "       [ 0.34923579,  0.64560376,  0.48336233,  0.00134961]]))\n"
     ]
    },
    {
     "data": {
      "text/plain": [
       "array([[18, 18],\n",
       "       [27, 27]])"
      ]
     },
     "execution_count": 142,
     "metadata": {},
     "output_type": "execute_result"
    }
   ],
   "source": [
    "# linear algebra with numpy arrays\n",
    "z = np.random.randint(7, size=(4,4))\n",
    "print(z)\n",
    "\n",
    "#DETERMINANT OF A MATRIX\n",
    "det = np.linalg.det(z)\n",
    "print(det)\n",
    "#INVERSE OF A MATRIX\n",
    "inv = np.linalg.inv(z)\n",
    "print(inv)\n",
    "#EIG\n",
    "eig = np.linalg.eig(z)\n",
    "print(eig)\n",
    "# DOT\n",
    "x = np.array([2,4,6,8])\n",
    "y = np.array([10,10,10,10])\n",
    "# MATRIX MULTIPLICATION\n",
    "X = ([[2,2],[3,3]])\n",
    "Y = ([[4,4],[5,5]])\n",
    "np.matmul(X,Y)"
   ]
  },
  {
   "cell_type": "code",
   "execution_count": null,
   "metadata": {},
   "outputs": [],
   "source": []
  }
 ],
 "metadata": {
  "kernelspec": {
   "display_name": "Python 3",
   "language": "python",
   "name": "python3"
  },
  "language_info": {
   "codemirror_mode": {
    "name": "ipython",
    "version": 3
   },
   "file_extension": ".py",
   "mimetype": "text/x-python",
   "name": "python",
   "nbconvert_exporter": "python",
   "pygments_lexer": "ipython3",
   "version": "3.8.3"
  }
 },
 "nbformat": 4,
 "nbformat_minor": 4
}
